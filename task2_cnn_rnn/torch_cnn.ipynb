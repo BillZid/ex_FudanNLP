{
 "cells": [
  {
   "cell_type": "code",
   "execution_count": null,
   "id": "31e8b551",
   "metadata": {
    "ExecuteTime": {
     "end_time": "2022-12-03T14:42:26.156327Z",
     "start_time": "2022-12-03T14:42:22.839966Z"
    },
    "pycharm": {
     "name": "#%%\n"
    }
   },
   "outputs": [],
   "source": [
    "import numpy as np\n",
    "import pandas as pd\n",
    "from gensim import corpora\n",
    "import torch\n",
    "import torch.nn as nn\n",
    "import torch.nn.functional as F\n",
    "import torch.optim as optim\n",
    "import time"
   ]
  },
  {
   "cell_type": "code",
   "execution_count": null,
   "id": "7d38fabf",
   "metadata": {
    "ExecuteTime": {
     "end_time": "2022-12-03T14:42:26.557209Z",
     "start_time": "2022-12-03T14:42:26.225537Z"
    },
    "pycharm": {
     "name": "#%%\n"
    }
   },
   "outputs": [],
   "source": [
    "# 数据的导入与预处理\n",
    "train_data = pd.read_csv(\"sentiment-analysis-on-movie-reviews/train.tsv\",\n",
    "                         sep='\\t', encoding='ISO-8859-1')\n",
    "phrase_id = train_data.loc[:, 'PhraseId'].values\n",
    "phrase = train_data.loc[:, 'Phrase'].values\n",
    "sentiment = train_data.loc[:, 'Sentiment'].values"
   ]
  },
  {
   "cell_type": "code",
   "execution_count": null,
   "id": "edd60f61",
   "metadata": {
    "ExecuteTime": {
     "end_time": "2022-12-03T14:42:33.660301Z",
     "start_time": "2022-12-03T14:42:26.639181Z"
    },
    "pycharm": {
     "name": "#%%\n"
    }
   },
   "outputs": [],
   "source": [
    "# 由原始表格数据生成词典与词向量\n",
    "train_texts = [[word for word in sentence.lower().split()] for sentence in\n",
    "               phrase]  # lower()使大写变小写\n",
    "dictionary = corpora.Dictionary(train_texts)  # 词典的生成,可以根据列表或列表的列表\n",
    "# gensim中的dictionary实际上是一个单词到id的唯一映射,是一种词典,id从0开始计算\n",
    "corpus = [dictionary.doc2bow(text) for text in train_texts]  # 稀疏one-hot向量形式\n",
    "dict_len = len(dictionary)  # 词典中词的总数\n",
    "\n",
    "# 由稀疏的bow向量生成稠密的文本特征向量\n",
    "word_feature = np.zeros((dict_len, len(phrase)), dtype='uint8')  # unit8降低内存\n",
    "for i in range(len(corpus)):\n",
    "    for bow in corpus[i]:\n",
    "        word_feature[bow[0], i] = bow[1]\n",
    "\n",
    "# 情感标签特征向量的生成(one-hot形式)\n",
    "sentiment_vec = np.zeros((5, len(sentiment)))\n",
    "for i in range(len(sentiment)):\n",
    "    sentiment_vec[sentiment[i], i] = 1"
   ]
  },
  {
   "cell_type": "code",
   "execution_count": null,
   "id": "a37ebbaf",
   "metadata": {
    "ExecuteTime": {
     "end_time": "2022-12-03T14:49:07.893768Z",
     "start_time": "2022-12-03T14:49:07.789042Z"
    }
   },
   "outputs": [],
   "source": [
    "sentence_len = []\n",
    "for sentence in train_texts:\n",
    "    sentence_len.append(len(sentence))\n",
    "print(max(sentence_len))"
   ]
  },
  {
   "cell_type": "code",
   "execution_count": 2,
   "id": "de92a1c8",
   "metadata": {
    "ExecuteTime": {
     "end_time": "2022-12-03T16:12:29.588895Z",
     "start_time": "2022-12-03T16:12:24.468631Z"
    }
   },
   "outputs": [],
   "source": [
    "from torchtext.vocab import GloVe\n",
    "glove = GloVe(name='6B', dim=100)"
   ]
  },
  {
   "cell_type": "code",
   "execution_count": null,
   "id": "bc8ca742",
   "metadata": {
    "ExecuteTime": {
     "end_time": "2022-12-03T16:05:24.530564Z",
     "start_time": "2022-12-03T16:05:24.516567Z"
    },
    "pycharm": {
     "name": "#%%\n"
    }
   },
   "outputs": [],
   "source": [
    "class Net(nn.Module):\n",
    "\n",
    "    def __init__(self):\n",
    "        super(Net, self).__init__()\n",
    "        # kernel\n",
    "        self.conv1 = nn.Conv1d(100, 20, 2)\n",
    "        self.conv2 = nn.Conv1d(100, 20, 3)\n",
    "        self.conv3 = nn.Conv1d(100, 20, 4)\n",
    "        self.fc1 = nn.Linear(60, 5)\n",
    "\n",
    "    def forward(self, x):\n",
    "        # Max pooling\n",
    "        x1 = F.max_pool1d(F.relu(self.conv1(x)), 51)\n",
    "        x2 = F.max_pool1d(F.relu(self.conv2(x)), 50)\n",
    "        x3 = F.max_pool1d(F.relu(self.conv2(x)), 49)\n",
    "        x = torch.flatten(torch.cat((x1, x2, x3), 0))\n",
    "        x = F.softmax(self.fc1(x), 0)\n",
    "        return x\n",
    "\n",
    "\n",
    "net = Net()\n",
    "print(net)"
   ]
  },
  {
   "cell_type": "code",
   "execution_count": null,
   "id": "2512a69c",
   "metadata": {
    "ExecuteTime": {
     "end_time": "2022-12-03T15:40:06.406908Z",
     "start_time": "2022-12-03T15:40:06.396929Z"
    },
    "pycharm": {
     "name": "#%%\n"
    }
   },
   "outputs": [],
   "source": [
    "params = list(net.parameters())\n",
    "print(len(params))\n",
    "for i in range(8):\n",
    "    print(params[i].size())"
   ]
  },
  {
   "cell_type": "code",
   "execution_count": null,
   "id": "13e488ed",
   "metadata": {
    "ExecuteTime": {
     "end_time": "2022-12-02T17:14:06.898956Z",
     "start_time": "2022-12-02T17:14:06.877016Z"
    },
    "pycharm": {
     "name": "#%%\n"
    }
   },
   "outputs": [],
   "source": [
    "input = torch.from_numpy(word_feature[:, 0].T,).reshape(1, 16540).float()\n",
    "print(input)\n",
    "out = net(input)\n",
    "print(out)"
   ]
  },
  {
   "cell_type": "code",
   "execution_count": null,
   "id": "b56bccec",
   "metadata": {
    "ExecuteTime": {
     "end_time": "2022-12-03T15:56:08.592756Z",
     "start_time": "2022-12-03T15:56:08.576799Z"
    },
    "pycharm": {
     "name": "#%%\n"
    }
   },
   "outputs": [],
   "source": [
    "criterion = nn.CrossEntropyLoss()\n",
    "optimizer = optim.SGD(net.parameters(), lr=0.001)"
   ]
  },
  {
   "cell_type": "code",
   "execution_count": null,
   "id": "8a8ad0b3",
   "metadata": {
    "ExecuteTime": {
     "end_time": "2022-12-03T16:05:32.549468Z",
     "start_time": "2022-12-03T16:05:32.522525Z"
    },
    "pycharm": {
     "name": "#%%\n"
    }
   },
   "outputs": [],
   "source": [
    "device = torch.device(\"cuda:0\" if torch.cuda.is_available() else \"cpu\")\n",
    "\n",
    "# Assuming that we are on a CUDA machine, this should print a CUDA device:\n",
    "\n",
    "print(device)\n",
    "net.to(device)"
   ]
  },
  {
   "cell_type": "code",
   "execution_count": null,
   "id": "5f31fbec",
   "metadata": {
    "ExecuteTime": {
     "end_time": "2022-12-03T16:06:19.596082Z",
     "start_time": "2022-12-03T16:06:02.364951Z"
    },
    "pycharm": {
     "name": "#%%\n"
    }
   },
   "outputs": [],
   "source": [
    "start = time.time()\n",
    "for epoch in range(3):\n",
    "    \n",
    "    running_loss = 0.0\n",
    "    for i in range(136060):\n",
    "        # get the inputs\n",
    "        word_embed = glove.get_vecs_by_tokens(train_texts[i])\n",
    "        zero_embed = torch.zeros(52 - word_embed.size()[0], 100)\n",
    "        inputs = torch.cat((word_embed, zero_embed), 0).T\n",
    "        labels = torch.from_numpy(sentiment_vec[:, i].T,).float()\n",
    "        optimizer.zero_grad()\n",
    "        inputs, labels = inputs.to(device), labels.to(device)\n",
    "        # forward + backward + optimize\n",
    "        outputs = net(inputs)\n",
    "        loss = criterion(outputs, labels)\n",
    "        loss.backward()\n",
    "        optimizer.step()\n",
    "\n",
    "        # print statistics\n",
    "        running_loss += loss.item()\n",
    "        if i % 10 == 9:    # print every 2000 mini-batches\n",
    "            print('[%d, %5d] loss: %.3f' %\n",
    "                  (epoch + 1, i + 1, running_loss / 10))\n",
    "            running_loss = 0.0\n",
    "\n",
    "print('Finished Training')\n",
    "end = time.time()\n",
    "print(f'cost time: {end-start} seconds')"
   ]
  },
  {
   "cell_type": "code",
   "execution_count": 15,
   "id": "8cf34d99",
   "metadata": {
    "ExecuteTime": {
     "end_time": "2022-12-03T16:12:52.955758Z",
     "start_time": "2022-12-03T16:12:52.936809Z"
    }
   },
   "outputs": [
    {
     "name": "stdout",
     "output_type": "stream",
     "text": [
      "torch.Size([5, 100])\n"
     ]
    }
   ],
   "source": [
    "tensor = glove.get_vecs_by_tokens(['', '1998', '199999998', ',', 'cat'], True)\n",
    "print(tensor.size())"
   ]
  }
 ],
 "metadata": {
  "kernelspec": {
   "display_name": "Python 3 (ipykernel)",
   "language": "python",
   "name": "python3"
  },
  "language_info": {
   "codemirror_mode": {
    "name": "ipython",
    "version": 3
   },
   "file_extension": ".py",
   "mimetype": "text/x-python",
   "name": "python",
   "nbconvert_exporter": "python",
   "pygments_lexer": "ipython3",
   "version": "3.9.13"
  },
  "varInspector": {
   "cols": {
    "lenName": 16,
    "lenType": 16,
    "lenVar": 40
   },
   "kernels_config": {
    "python": {
     "delete_cmd_postfix": "",
     "delete_cmd_prefix": "del ",
     "library": "var_list.py",
     "varRefreshCmd": "print(var_dic_list())"
    },
    "r": {
     "delete_cmd_postfix": ") ",
     "delete_cmd_prefix": "rm(",
     "library": "var_list.r",
     "varRefreshCmd": "cat(var_dic_list()) "
    }
   },
   "oldHeight": 526.844,
   "position": {
    "height": "40px",
    "left": "166px",
    "right": "20px",
    "top": "564px",
    "width": "800px"
   },
   "types_to_exclude": [
    "module",
    "function",
    "builtin_function_or_method",
    "instance",
    "_Feature"
   ],
   "varInspector_section_display": "none",
   "window_display": false
  }
 },
 "nbformat": 4,
 "nbformat_minor": 5
}
